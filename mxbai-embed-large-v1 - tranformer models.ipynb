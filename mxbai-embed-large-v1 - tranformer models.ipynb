{
 "cells": [
  {
   "cell_type": "code",
   "execution_count": 8,
   "metadata": {},
   "outputs": [
    {
     "name": "stdout",
     "output_type": "stream",
     "text": [
      "Similarities: tensor([[0.7788, 0.3145, 0.2088, 0.4036]])\n"
     ]
    }
   ],
   "source": [
    "#Importing necessary modules\n",
    "\n",
    "from sentence_transformers import SentenceTransformer  # Importing SentenceTransformer class\n",
    "from sentence_transformers.util import cos_sim  # Importing cos_sim function for cosine similarity calculation\n",
    "\n",
    "# Load a pre-trained model\n",
    "\n",
    "model = SentenceTransformer(\"mixedbread-ai/mxbai-embed-large-v1\")  # Loading a pre-trained model for sentence embeddings\n",
    "\n",
    "# Define the new query and documents\n",
    "\n",
    "query = 'Represent this sentence for searching relevant passages: A woman is baking a cake'  # New query sentence\n",
    "docs = [\n",
    "    query,  # New query is included in the document list for comparison\n",
    "    \"A woman is baking cookies.\",  # Sample document 1\n",
    "    \"A man is eating pizza.\",  # Sample document 2\n",
    "    \"The boy is playing with a toy.\",  # Sample document 3\n",
    "    \"A woman is riding a bicycle.\",  # Sample document 4\n",
    "]\n",
    "\n",
    "# Encode sentences into embeddings\n",
    "\n",
    "embeddings = model.encode(docs)  # Encoding new query and documents into fixed-dimensional embeddings\n",
    "\n",
    "# Calculate cosine similarities between the original query and other documents\n",
    "\n",
    "similarities = cos_sim(embeddings[0], embeddings[1:])  # Calculating cosine similarity between original query and other documents\n",
    "\n",
    "print('Similarities:', similarities)  # Printing cosine similarity scores between the query and documents"
   ]
  },
  {
   "cell_type": "code",
   "execution_count": null,
   "metadata": {},
   "outputs": [],
   "source": []
  }
 ],
 "metadata": {
  "kernelspec": {
   "display_name": "base",
   "language": "python",
   "name": "python3"
  },
  "language_info": {
   "codemirror_mode": {
    "name": "ipython",
    "version": 3
   },
   "file_extension": ".py",
   "mimetype": "text/x-python",
   "name": "python",
   "nbconvert_exporter": "python",
   "pygments_lexer": "ipython3",
   "version": "3.11.5"
  }
 },
 "nbformat": 4,
 "nbformat_minor": 2
}

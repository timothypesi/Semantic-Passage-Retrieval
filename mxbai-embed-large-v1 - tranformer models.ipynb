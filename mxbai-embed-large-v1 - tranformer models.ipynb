{
 "cells": [
  {
   "cell_type": "code",
   "execution_count": 2,
   "metadata": {},
   "outputs": [
    {
     "ename": "NameError",
     "evalue": "name 'new_query' is not defined",
     "output_type": "error",
     "traceback": [
      "\u001b[1;31m---------------------------------------------------------------------------\u001b[0m",
      "\u001b[1;31mNameError\u001b[0m                                 Traceback (most recent call last)",
      "Cell \u001b[1;32mIn[2], line 11\u001b[0m\n\u001b[0;32m      8\u001b[0m \u001b[38;5;66;03m# Define the new query and documents\u001b[39;00m\n\u001b[0;32m      9\u001b[0m query \u001b[38;5;241m=\u001b[39m \u001b[38;5;124m'\u001b[39m\u001b[38;5;124mRepresent this sentence for searching relevant passages: A woman is baking a cake\u001b[39m\u001b[38;5;124m'\u001b[39m  \u001b[38;5;66;03m# New query sentence\u001b[39;00m\n\u001b[0;32m     10\u001b[0m docs \u001b[38;5;241m=\u001b[39m [\n\u001b[1;32m---> 11\u001b[0m     new_query,  \u001b[38;5;66;03m# New query is included in the document list for comparison\u001b[39;00m\n\u001b[0;32m     12\u001b[0m     \u001b[38;5;124m\"\u001b[39m\u001b[38;5;124mA woman is baking cookies.\u001b[39m\u001b[38;5;124m\"\u001b[39m,  \u001b[38;5;66;03m# Sample document 1\u001b[39;00m\n\u001b[0;32m     13\u001b[0m     \u001b[38;5;124m\"\u001b[39m\u001b[38;5;124mA man is eating pizza.\u001b[39m\u001b[38;5;124m\"\u001b[39m,  \u001b[38;5;66;03m# Sample document 2\u001b[39;00m\n\u001b[0;32m     14\u001b[0m     \u001b[38;5;124m\"\u001b[39m\u001b[38;5;124mThe boy is playing with a toy.\u001b[39m\u001b[38;5;124m\"\u001b[39m,  \u001b[38;5;66;03m# Sample document 3\u001b[39;00m\n\u001b[0;32m     15\u001b[0m     \u001b[38;5;124m\"\u001b[39m\u001b[38;5;124mA woman is riding a bicycle.\u001b[39m\u001b[38;5;124m\"\u001b[39m,  \u001b[38;5;66;03m# Sample document 4\u001b[39;00m\n\u001b[0;32m     16\u001b[0m ]\n\u001b[0;32m     18\u001b[0m \u001b[38;5;66;03m# Encode sentences into embeddings\u001b[39;00m\n\u001b[0;32m     19\u001b[0m embeddings \u001b[38;5;241m=\u001b[39m model\u001b[38;5;241m.\u001b[39mencode(docs)  \u001b[38;5;66;03m# Encoding new query and documents into fixed-dimensional embeddings\u001b[39;00m\n",
      "\u001b[1;31mNameError\u001b[0m: name 'new_query' is not defined"
     ]
    }
   ],
   "source": [
    "# Importing necessary modules\n",
    "from sentence_transformers import SentenceTransformer  # Importing SentenceTransformer class\n",
    "from sentence_transformers.util import cos_sim  # Importing cos_sim function for cosine similarity calculation\n",
    "\n",
    "# Load a pre-trained model\n",
    "model = SentenceTransformer(\"mixedbread-ai/mxbai-embed-large-v1\")  # Loading a pre-trained model for sentence embeddings\n",
    "\n",
    "# Define the new query and documents\n",
    "query = 'Represent this sentence for searching relevant passages: A woman is baking a cake'  # New query sentence\n",
    "docs = [\n",
    "    query,  # New query is included in the document list for comparison\n",
    "    \"A woman is baking cookies.\",  # Sample document 1\n",
    "    \"A man is eating pizza.\",  # Sample document 2\n",
    "    \"The boy is playing with a toy.\",  # Sample document 3\n",
    "    \"A woman is riding a bicycle.\",  # Sample document 4\n",
    "]\n",
    "\n",
    "# Encode sentences into embeddings\n",
    "embeddings = model.encode(docs)  # Encoding new query and documents into fixed-dimensional embeddings\n",
    "\n",
    "# Calculate cosine similarities between the original query and other documents\n",
    "similarities = cos_sim(embeddings[0], embeddings[1:])  # Calculating cosine similarity between original query and other documents\n",
    "\n",
    "# Calculate cosine similarities between the new query and other documents\n",
    "similarities = cos_sim(new_embeddings[0], new_embeddings[1:])  # Calculating cosine similarity between new query and other documents\n",
    "\n",
    "print('Similarities:', similarities)  # Printing cosine similarity scores between new query and documents\n"
   ]
  },
  {
   "cell_type": "code",
   "execution_count": null,
   "metadata": {},
   "outputs": [],
   "source": []
  }
 ],
 "metadata": {
  "kernelspec": {
   "display_name": "base",
   "language": "python",
   "name": "python3"
  },
  "language_info": {
   "codemirror_mode": {
    "name": "ipython",
    "version": 3
   },
   "file_extension": ".py",
   "mimetype": "text/x-python",
   "name": "python",
   "nbconvert_exporter": "python",
   "pygments_lexer": "ipython3",
   "version": "3.11.5"
  }
 },
 "nbformat": 4,
 "nbformat_minor": 2
}
